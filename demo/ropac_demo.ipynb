{
 "cells": [
  {
   "cell_type": "markdown",
   "id": "e34a618a",
   "metadata": {},
   "source": [
    "# Demo of Python Package:\n",
    "# ROPAC - Radar Observations Processing And Compositing\n",
    "This notebook serves as a demonstration, showcasing some of functionalities offered by the ROPAC Python package. The fundamental objective of the ROPAC Python package is to facilitate the efficient interpretation of radar data while concurrently introducing a sense of simplicity to complicated datasets. In this demo the goal is to demonstrate:\n",
    "\n",
    "1. Ingesting data from various file sources.\n",
    "2. Standardising the data structures.\n",
    "3. Allow full control over important metadata variables.\n",
    "4. Write data to the standard ODIM HDF5 format for further processing.\n",
    "\n",
    "## 1. Let’s start by importing all the require packages and some data to explore\n",
    "- For this we can use the [open-radar-data](https://pypi.org/project/open-radar-data/) package.\n"
   ]
  },
  {
   "cell_type": "code",
   "execution_count": null,
   "id": "3598f973-41c2-4d2c-b365-e2c043b9d566",
   "metadata": {},
   "outputs": [],
   "source": [
    "# Import packages\n",
    "\n",
    "import gzip\n",
    "import os\n",
    "\n",
    "from open_radar_data import DATASETS\n",
    "from ropac import system_config as cfg\n",
    "from ropac import PolarVolume\n",
    "\n",
    "print(cfg.path.data)\n",
    "print(cfg.path.logs)\n",
    "print(cfg.path.images)\n",
    "print(cfg.path.ingest)"
   ]
  },
  {
   "cell_type": "code",
   "execution_count": null,
   "id": "8f7aab30",
   "metadata": {},
   "outputs": [],
   "source": [
    "# Download Furuno SCN data\n",
    "scn_filepath = DATASETS.fetch('0080_20210730_160000_01_02.scn.gz')\n",
    "print(scn_filepath)\n",
    "\n",
    "# Download Rainbow Volume data\n",
    "rb5_filepath = DATASETS.fetch('2013051000000600dBZ.vol')\n",
    "print(rb5_filepath)\n",
    "\n",
    "# Download ODIM HDF5 data\n",
    "odim_filepath = DATASETS.fetch('71_20181220_060628.pvol.h5')\n",
    "print(odim_filepath)"
   ]
  },
  {
   "cell_type": "markdown",
   "id": "3654e493",
   "metadata": {},
   "source": [
    "- Have to unzip the FURUNO data"
   ]
  },
  {
   "cell_type": "code",
   "execution_count": null,
   "id": "685542ab",
   "metadata": {},
   "outputs": [],
   "source": [
    "\n",
    "def gunzip_file(input_path, output_path):\n",
    "    with gzip.open(input_path, 'rb') as f_in, open(output_path, 'wb') as f_out:\n",
    "        f_out.write(f_in.read())\n",
    "\n",
    "# Example usage:\n",
    "input_file = os.path.join(cfg.path.ingest,'0080_20210730_160000_01_02.scn.gz')\n",
    "output_file = os.path.join(cfg.path.ingest,'0080_20210730_160000_01_02.scn')\n",
    "\n",
    "gunzip_file(input_file, output_file)\n",
    "\n",
    "print(os.listdir(cfg.path.ingest))\n",
    "\n",
    "#update scn_filepath\n",
    "scn_filepath = output_file\n",
    "print(scn_filepath)"
   ]
  },
  {
   "cell_type": "markdown",
   "id": "b278c52d",
   "metadata": {},
   "source": [
    "## 2. Setup CONFIG files for the radars\n",
    "\n"
   ]
  },
  {
   "cell_type": "markdown",
   "id": "4d1bdaa4",
   "metadata": {},
   "source": [
    "## 3. Read data with ROPAC"
   ]
  },
  {
   "cell_type": "code",
   "execution_count": null,
   "id": "29814196",
   "metadata": {},
   "outputs": [],
   "source": [
    "scn_data = PolarVolume(scn_filepath)\n",
    "print(scn_data)"
   ]
  },
  {
   "cell_type": "markdown",
   "id": "0634e2f0",
   "metadata": {},
   "source": [
    "1. **Radar:**\n",
    "This line indicates the radar identifier of the radar. Here only the Furuno unique ID \"0080\" is available.\n",
    "\n",
    "2. **Location:**\n",
    "This line specifies the geographical location of the radar. It includes the longitude, latitude, and height above mean sea level (AMSL) in meters.\n",
    "\n",
    "3. **Wavelength:**\n",
    "This line states the wavelength of the radar's emitted signals. In this case, the value is \"None,\" indicating that the wavelength information is not available.\n",
    "\n",
    "4. **Number of Elevations:**\n",
    "This line indicates the number of elevation angles or tilts used in the radar scan. In this case, there is only one elevation angle.\n",
    "\n",
    "5. **Volume Time:**\n",
    "This line shows the timestamp when the volume scan was performed, i.e., the file name timestamp.\n",
    "\n",
    "6. **Volume Start Time:**\n",
    "This line specifies the start time of the volume scan, indicating when the data collection began.\n",
    "\n",
    "7. **Volume End Time:**\n",
    "This line indicates the end time of the volume scan, representing when the data collection concluded.\n",
    "\n",
    "8. **Available Moments:**\n",
    "This line lists the different moments or variables that have been measured or calculated by the radar. The moments include parameters such as reflectivity (DBZH), Doppler velocity (VRADH), differential reflectivity (ZDR), etc. Moment names follow the ODIM naming convention.\n",
    "\n",
    "9. **Elevation Angles:**\n",
    "This line displays the specific elevation angles (tilts) used in the radar scan. In this case, the elevation angle is 7.8 degrees."
   ]
  },
  {
   "cell_type": "markdown",
   "id": "3f39dc17",
   "metadata": {},
   "source": [
    "Since we did not define a config file for this radar it is missing a unique identifier based on the user’s system. If we print the radar ID name *None* is returned which will cause an error when the data is written to file as the radar ID is require in the output directory structure."
   ]
  },
  {
   "cell_type": "code",
   "execution_count": null,
   "id": "0dc53e2c",
   "metadata": {},
   "outputs": [],
   "source": [
    "print(scn_data.radar_ID )"
   ]
  },
  {
   "cell_type": "code",
   "execution_count": null,
   "id": "770ec176",
   "metadata": {},
   "outputs": [],
   "source": [
    "print(scn_data.get_file_path())"
   ]
  },
  {
   "cell_type": "markdown",
   "id": "bc72841f",
   "metadata": {},
   "source": [
    "## 3. The PolarVolume object structure\n",
    "\n",
    "The PolarVolume follows a similar structure as the ODIM data format. This is where the main data lives that will be written to file. Other functions are also available to increase usability.\n",
    "\n",
    "- PolarVolume (Object)\n",
    "    - dataset (list of Elevation objects)\n",
    "        - data (list of Moment Objects)\n",
    "            - data (2D np.array)\n",
    "            - what (dataclass) metadata\n",
    "        - how (dataclass) metadata\n",
    "        - where (dataclass) metadata\n",
    "        - what (dataclass) metadata \n",
    "    - how (dataclass) metadata\n",
    "    - where (dataclass) metadata\n",
    "    - what (dataclass) metadata\n",
    "    \n",
    "i.e., a PolarVolume is a list of Elevations, where each elevation is a List of Moments, where each Moment is a 2D numpy array of the observed data.\n",
    "\n"
   ]
  },
  {
   "cell_type": "code",
   "execution_count": null,
   "id": "1acef99c",
   "metadata": {},
   "outputs": [],
   "source": [
    "rb5_data = PolarVolume(rb5_filepath)\n",
    "print(rb5_data)"
   ]
  },
  {
   "cell_type": "code",
   "execution_count": null,
   "id": "49497abe",
   "metadata": {},
   "outputs": [],
   "source": [
    "# Can see from the summary output that we have 14 elevations and 1 moment.\n",
    "print(len(rb5_data.dataset))\n",
    "print(len(rb5_data.dataset[0].data))"
   ]
  },
  {
   "cell_type": "code",
   "execution_count": null,
   "id": "5f2dba58",
   "metadata": {},
   "outputs": [],
   "source": [
    "# We see that the first elevation in the list is 0.6 deg \n",
    "rb5_data.dataset[0].elevation"
   ]
  },
  {
   "cell_type": "code",
   "execution_count": null,
   "id": "10f50dea",
   "metadata": {},
   "outputs": [],
   "source": [
    "# The data moment is DBZH\n",
    "rb5_data.dataset[0].data[0].quantity"
   ]
  },
  {
   "cell_type": "markdown",
   "id": "e057c910",
   "metadata": {},
   "source": [
    "Lets have a look at the data:"
   ]
  },
  {
   "cell_type": "code",
   "execution_count": null,
   "id": "634abf94",
   "metadata": {},
   "outputs": [],
   "source": [
    "# In original unsigned interget 8-bit values as a numpy array in polar coordinates (azimuth, range)\n",
    "rb5_data.dataset[0].data[0].data"
   ]
  },
  {
   "cell_type": "code",
   "execution_count": null,
   "id": "7e4556cd",
   "metadata": {},
   "outputs": [],
   "source": [
    "# Convert data to it correct units: With DBZH this will be dBZ. returns a floating point numpy array.\n",
    "rb5_data.dataset[0].data[0].get_data()"
   ]
  },
  {
   "cell_type": "code",
   "execution_count": null,
   "id": "6f46977f",
   "metadata": {},
   "outputs": [],
   "source": [
    "# Can also visualise the data with a plot\n",
    "rb5_data.dataset[0].data[0].plot()"
   ]
  },
  {
   "cell_type": "code",
   "execution_count": null,
   "id": "1aef6c4e",
   "metadata": {},
   "outputs": [],
   "source": [
    "# Can also take a look at the other elevations:\n",
    "print(rb5_data.dataset[3].elevation)\n",
    "rb5_data.dataset[3].data[0].plot()"
   ]
  },
  {
   "cell_type": "markdown",
   "id": "f2f041b6",
   "metadata": {},
   "source": [
    "## 4. Extract/Combine Elevations and/or Moments"
   ]
  },
  {
   "cell_type": "code",
   "execution_count": null,
   "id": "371f9b03",
   "metadata": {},
   "outputs": [],
   "source": [
    "odim_data = PolarVolume(odim_filepath)\n",
    "odim_data.radar_ID = 3 # Set radar_ID manually as this is an ODIM file with no metadata file\n",
    "print(odim_data)"
   ]
  },
  {
   "cell_type": "code",
   "execution_count": null,
   "id": "fda2ee07",
   "metadata": {},
   "outputs": [],
   "source": [
    "odim_data.what.source #+ f',CMT:id=3'\n",
    "\n",
    "\n",
    "#rb5_data.what.source"
   ]
  },
  {
   "cell_type": "markdown",
   "id": "15e5bc41",
   "metadata": {},
   "source": [
    "Here we can see we have a S-band radar from Australia that has several moments as well as 14 different elevations scans within its volume scan. \n",
    "\n",
    "Let’s plot the 0.5 deg elevation moments to see what the data looks like. **Each moment has an appropriate colour scale. **"
   ]
  },
  {
   "cell_type": "code",
   "execution_count": null,
   "id": "e7844a5d",
   "metadata": {},
   "outputs": [],
   "source": [
    "print(odim_data.dataset[0].elevation)\n",
    "for moment in odim_data.dataset[0].data:\n",
    "    moment.plot()"
   ]
  },
  {
   "cell_type": "markdown",
   "id": "d6891e69",
   "metadata": {},
   "source": [
    "## 5. Visualising the scanning sequence "
   ]
  },
  {
   "cell_type": "code",
   "execution_count": null,
   "id": "3a1ca47a",
   "metadata": {},
   "outputs": [],
   "source": [
    "# Need to set radar ID as it is used within the plotting title\n",
    "rb5_data.plot_scan_sequence()\n"
   ]
  },
  {
   "cell_type": "code",
   "execution_count": null,
   "id": "1f2cd35f",
   "metadata": {},
   "outputs": [],
   "source": [
    "str(odim_data.radar_ID)\n",
    "\n"
   ]
  },
  {
   "cell_type": "code",
   "execution_count": null,
   "id": "b1ac4065",
   "metadata": {},
   "outputs": [],
   "source": [
    "odim_data.plot_scan_sequence()"
   ]
  },
  {
   "cell_type": "markdown",
   "id": "3c122436",
   "metadata": {},
   "source": [
    "Here we see both radars initiate the scanning process by employing a bottom-up elevation approach, wherein the antenna gradually moves upward with each tilt. Ideally, it is preferable to commence the scan from the top and progress downward, as the lower elevation angles typically contains the most information, and it will be more beneficial that the lower tilts be the most recent data within the scanning volume. We also observe that the scan time for the rb5_data remains relatively consistent across elevations. Conversely, the *odim_data* radar demonstrates an extended duration for scanning the bottom elevation. This characteristic indicates that the antenna rotation is slower, facilitating the acquisition of more precise data, which is what we want to see."
   ]
  },
  {
   "cell_type": "markdown",
   "id": "37a6cbb0",
   "metadata": {},
   "source": [
    "## 7. Writing data to file\n",
    "Once you are happy with the content of the data and metadata data can be written to ODIM HDF5 file format using the write function."
   ]
  },
  {
   "cell_type": "code",
   "execution_count": null,
   "id": "ab96dc85",
   "metadata": {},
   "outputs": [],
   "source": [
    "# the data will be automatically saved at\n",
    "rb5_data.get_file_path()"
   ]
  },
  {
   "cell_type": "code",
   "execution_count": null,
   "id": "c3369dde",
   "metadata": {},
   "outputs": [],
   "source": [
    "rb5_data.write_to_file()"
   ]
  },
  {
   "cell_type": "code",
   "execution_count": null,
   "id": "710a493a",
   "metadata": {},
   "outputs": [],
   "source": [
    "os.listdir(os.path.dirname(rb5_data.get_file_path()))"
   ]
  },
  {
   "cell_type": "markdown",
   "id": "e913d283",
   "metadata": {},
   "source": [
    "Data is now ready for further processing"
   ]
  }
 ],
 "metadata": {
  "kernelspec": {
   "display_name": "Python 3 (ipykernel)",
   "language": "python",
   "name": "python3"
  },
  "language_info": {
   "codemirror_mode": {
    "name": "ipython",
    "version": 3
   },
   "file_extension": ".py",
   "mimetype": "text/x-python",
   "name": "python",
   "nbconvert_exporter": "python",
   "pygments_lexer": "ipython3",
   "version": "3.12.0"
  }
 },
 "nbformat": 4,
 "nbformat_minor": 5
}
